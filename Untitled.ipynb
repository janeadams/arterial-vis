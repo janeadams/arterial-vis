{
 "cells": [
  {
   "cell_type": "code",
   "execution_count": 5,
   "id": "pacific-statistics",
   "metadata": {},
   "outputs": [],
   "source": [
    "import arterialvis"
   ]
  },
  {
   "cell_type": "code",
   "execution_count": 6,
   "id": "talented-diversity",
   "metadata": {},
   "outputs": [
    {
     "name": "stdout",
     "output_type": "stream",
     "text": [
      "Library for image processing, segmentation, 3D to 2D network abstraction of cerebrovasculature, and interactive visualization of planar graph embedding for detection of neurological anomalies*\n",
      "\n",
      "Modules:\n",
      "    download\n",
      "    imaging\n",
      "    morphology\n",
      "\n"
     ]
    }
   ],
   "source": [
    "print(arterialvis.__doc__)"
   ]
  },
  {
   "cell_type": "code",
   "execution_count": 10,
   "id": "pediatric-university",
   "metadata": {},
   "outputs": [],
   "source": [
    "from arterialvis import download"
   ]
  },
  {
   "cell_type": "code",
   "execution_count": 11,
   "id": "separated-testing",
   "metadata": {},
   "outputs": [
    {
     "name": "stdout",
     "output_type": "stream",
     "text": [
      "Basic functions for reading in and processing various types of neuroimaging and neuromorphology data\n",
      "\n",
      "Functions:\n",
      "    download_zip\n",
      "    download_swc\n",
      "    download_dicom\n",
      "\n"
     ]
    }
   ],
   "source": [
    "print(download.__doc__)"
   ]
  },
  {
   "cell_type": "code",
   "execution_count": 12,
   "id": "heavy-commission",
   "metadata": {},
   "outputs": [
    {
     "name": "stdout",
     "output_type": "stream",
     "text": [
      "Download a zip file and extract into a directory\n",
      "    \n",
      "    Keyword arguments:\n",
      "    zip_path -- the web URL where the zip is located (default uses .env config 'SWC_SOURCE')\n",
      "    save_path -- the directory the unzipped files should be saved (default uses .env config 'SWC_SAVE')\n",
      "    \n"
     ]
    }
   ],
   "source": [
    "print(download.download_zip.__doc__)"
   ]
  },
  {
   "cell_type": "code",
   "execution_count": 4,
   "id": "textile-plate",
   "metadata": {},
   "outputs": [
    {
     "ename": "AttributeError",
     "evalue": "module 'arterialvis' has no attribute 'download'",
     "output_type": "error",
     "traceback": [
      "\u001b[0;31m---------------------------------------------------------------------------\u001b[0m",
      "\u001b[0;31mAttributeError\u001b[0m                            Traceback (most recent call last)",
      "\u001b[0;32m/var/folders/cj/nflz0hc17434ztt1fymhzkpc0000gn/T/ipykernel_74218/3426815544.py\u001b[0m in \u001b[0;36m<module>\u001b[0;34m\u001b[0m\n\u001b[0;32m----> 1\u001b[0;31m \u001b[0mprint\u001b[0m\u001b[0;34m(\u001b[0m\u001b[0marterialvis\u001b[0m\u001b[0;34m.\u001b[0m\u001b[0mdownload\u001b[0m\u001b[0;34m.\u001b[0m\u001b[0mdownload_zip\u001b[0m\u001b[0;34m.\u001b[0m\u001b[0m__doc__\u001b[0m\u001b[0;34m)\u001b[0m\u001b[0;34m\u001b[0m\u001b[0;34m\u001b[0m\u001b[0m\n\u001b[0m",
      "\u001b[0;31mAttributeError\u001b[0m: module 'arterialvis' has no attribute 'download'"
     ]
    }
   ],
   "source": [
    "print(arterialvis.download.download_zip.__doc__)"
   ]
  },
  {
   "cell_type": "code",
   "execution_count": null,
   "id": "concrete-virginia",
   "metadata": {},
   "outputs": [],
   "source": []
  }
 ],
 "metadata": {
  "kernelspec": {
   "display_name": "dev",
   "language": "python",
   "name": "dev"
  },
  "language_info": {
   "codemirror_mode": {
    "name": "ipython",
    "version": 3
   },
   "file_extension": ".py",
   "mimetype": "text/x-python",
   "name": "python",
   "nbconvert_exporter": "python",
   "pygments_lexer": "ipython3",
   "version": "3.8.3"
  }
 },
 "nbformat": 4,
 "nbformat_minor": 5
}
