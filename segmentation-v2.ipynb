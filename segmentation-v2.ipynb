{
 "cells": [
  {
   "cell_type": "markdown",
   "id": "9742651a",
   "metadata": {},
   "source": [
    "# Segmenting Arterial Structure from Radiological Imaging"
   ]
  },
  {
   "cell_type": "markdown",
   "id": "efb7a05b",
   "metadata": {},
   "source": [
    "Tutorial from here: https://www.raddq.com/dicom-processing-segmentation-visualization-in-python/"
   ]
  },
  {
   "cell_type": "code",
   "execution_count": null,
   "id": "4d76eb3d",
   "metadata": {},
   "outputs": [],
   "source": [
    "import plotly.express as px\n",
    "import plotly.graph_objects as go"
   ]
  },
  {
   "cell_type": "markdown",
   "id": "94c4c436",
   "metadata": {},
   "source": [
    "## Import the ArterialVis imaging module"
   ]
  },
  {
   "cell_type": "code",
   "execution_count": null,
   "id": "northern-heavy",
   "metadata": {},
   "outputs": [],
   "source": [
    "from arterialvis.download import make_output_dir\n",
    "from arterialvis.imaging import *"
   ]
  },
  {
   "cell_type": "code",
   "execution_count": null,
   "id": "50073087",
   "metadata": {},
   "outputs": [],
   "source": [
    "df = parse_volumes(dicom_path='CTA/bcta1_20171009/SAGHDMIP1')"
   ]
  },
  {
   "cell_type": "code",
   "execution_count": null,
   "id": "bb8e6cce",
   "metadata": {},
   "outputs": [],
   "source": [
    "patient = load_scan('CTA/bcta1_20171009/SAGHDMIP1')"
   ]
  },
  {
   "cell_type": "code",
   "execution_count": null,
   "id": "e2919945",
   "metadata": {},
   "outputs": [],
   "source": [
    "patient"
   ]
  },
  {
   "cell_type": "markdown",
   "id": "d47322e3",
   "metadata": {},
   "source": [
    "## Extract the pixels from the DICOM image files"
   ]
  },
  {
   "cell_type": "code",
   "execution_count": null,
   "id": "finite-certificate",
   "metadata": {
    "scrolled": false
   },
   "outputs": [],
   "source": [
    "imgs = get_pixels_hu(patient)"
   ]
  },
  {
   "cell_type": "code",
   "execution_count": null,
   "id": "59393496",
   "metadata": {},
   "outputs": [],
   "source": [
    "np.save(\"DCM_array.npy\", imgs)"
   ]
  },
  {
   "cell_type": "code",
   "execution_count": null,
   "id": "fbb45043",
   "metadata": {},
   "outputs": [],
   "source": [
    "file_used=\"DCM_array.npy\"\n",
    "imgs_to_process = np.load(file_used).astype(np.float64)\n",
    "flat = imgs_to_process.flatten()"
   ]
  },
  {
   "cell_type": "code",
   "execution_count": null,
   "id": "60ce5c35",
   "metadata": {},
   "outputs": [],
   "source": [
    "plt.hist(flat, bins=50, color='c')\n",
    "plt.xlabel(\"Hounsfield Units (HU)\")\n",
    "plt.ylabel(\"Frequency\")\n",
    "plt.show()"
   ]
  },
  {
   "cell_type": "code",
   "execution_count": null,
   "id": "92000b5f",
   "metadata": {},
   "outputs": [],
   "source": [
    "id = 0\n",
    "imgs_to_process = np.load(\"DCM_array.npy\")\n",
    "\n",
    "def sample_stack(stack, rows=6, cols=6, start_with=10, show_every=3):\n",
    "    fig,ax = plt.subplots(rows,cols,figsize=[12,12])\n",
    "    for i in range(rows*cols):\n",
    "        ind = start_with + i*show_every\n",
    "        ax[int(i/rows),int(i % rows)].set_title('slice %d' % ind)\n",
    "        ax[int(i/rows),int(i % rows)].imshow(stack[ind],cmap='gray')\n",
    "        ax[int(i/rows),int(i % rows)].axis('off')\n",
    "    plt.show()\n",
    "\n",
    "sample_stack(imgs_to_process)"
   ]
  },
  {
   "cell_type": "code",
   "execution_count": null,
   "id": "62ed9b0b",
   "metadata": {},
   "outputs": [],
   "source": [
    "print(\"Slice Thickness: %f\" % patient[0].SliceThickness)"
   ]
  },
  {
   "cell_type": "code",
   "execution_count": null,
   "id": "c28a7ee8",
   "metadata": {},
   "outputs": [],
   "source": [
    "patient[0].PixelSpacing"
   ]
  },
  {
   "cell_type": "code",
   "execution_count": null,
   "id": "eab79181",
   "metadata": {},
   "outputs": [],
   "source": [
    "import scipy"
   ]
  },
  {
   "cell_type": "code",
   "execution_count": null,
   "id": "839d09d9",
   "metadata": {},
   "outputs": [],
   "source": [
    "print(\"Pixel Spacing (row, col): (%f, %f) \" % (patient[0].PixelSpacing[0], patient[0].PixelSpacing[1]))"
   ]
  },
  {
   "cell_type": "code",
   "execution_count": null,
   "id": "c499f241",
   "metadata": {},
   "outputs": [],
   "source": [
    "id = 0\n",
    "imgs_to_process = np.load(\"DCM_array.npy\")\n",
    "def resample(image, scan, new_spacing=[1,1,1]):\n",
    "    # Determine current pixel spacing\n",
    "    spacing = map(float, ([scan[0].SliceThickness, scan[0].PixelSpacing[0], scan[0].PixelSpacing[1]]))\n",
    "    spacing = np.array(list(spacing))\n",
    "\n",
    "    resize_factor = spacing / new_spacing\n",
    "    new_real_shape = image.shape * resize_factor\n",
    "    new_shape = np.round(new_real_shape)\n",
    "    real_resize_factor = new_shape / image.shape\n",
    "    new_spacing = spacing / real_resize_factor\n",
    "    \n",
    "    image = scipy.ndimage.interpolation.zoom(image, real_resize_factor)\n",
    "    \n",
    "    return image, new_spacing\n",
    "\n",
    "print(\"Shape before resampling\\t\", imgs_to_process.shape)\n",
    "imgs_after_resamp, spacing = resample(imgs_to_process, patient, [1,1,1])\n",
    "print(\"Shape after resampling\\t\", imgs_after_resamp.shape)"
   ]
  },
  {
   "cell_type": "code",
   "execution_count": null,
   "id": "3670ee23",
   "metadata": {},
   "outputs": [],
   "source": [
    "from skimage import morphology\n",
    "from skimage import measure\n",
    "from skimage.transform import resize\n",
    "from sklearn.cluster import KMeans\n",
    "from mpl_toolkits.mplot3d.art3d import Poly3DCollection\n",
    "from plotly.tools import FigureFactory as FF\n",
    "from plotly.offline import download_plotlyjs, init_notebook_mode, plot, iplot"
   ]
  },
  {
   "cell_type": "code",
   "execution_count": null,
   "id": "bc19647c",
   "metadata": {},
   "outputs": [],
   "source": [
    "def make_mesh(image, threshold=-400, step_size=1):\n",
    "\n",
    "    print(\"Transposing surface\")\n",
    "    p = image.transpose(2,1,0)\n",
    "    \n",
    "    print(\"Calculating surface\")\n",
    "    verts, faces, norm, val = measure.marching_cubes(p, threshold, step_size=step_size, allow_degenerate=True) \n",
    "    return verts, faces, norm, val\n",
    "\n",
    "def plotly_3d(verts, faces):\n",
    "    x,y,z = zip(*verts) \n",
    "    \n",
    "    print(\"Drawing\")\n",
    "    \n",
    "    # Make the colormap single color since the axes are positional not intensity. \n",
    "#    colormap=['rgb(255,105,180)','rgb(255,255,51)','rgb(0,191,255)']\n",
    "    colormap=['rgb(139,0,0)','rgb(255,0,0)']\n",
    "    \n",
    "    fig = FF.create_trisurf(x=x,\n",
    "                        y=y, \n",
    "                        z=z, \n",
    "                        plot_edges=False,\n",
    "                        colormap=colormap,\n",
    "                        simplices=faces,\n",
    "                        backgroundcolor='rgb(255, 255, 255)',\n",
    "                        title=\"Interactive Visualization\")\n",
    "    iplot(fig)\n",
    "    return fig\n",
    "\n",
    "def plt_3d(verts, faces):\n",
    "    print(\"Drawing\")\n",
    "    x,y,z = zip(*verts) \n",
    "    fig = plt.figure(figsize=(10, 10))\n",
    "    ax = fig.add_subplot(111, projection='3d')\n",
    "\n",
    "    # Fancy indexing: `verts[faces]` to generate a collection of triangles\n",
    "    mesh = Poly3DCollection(verts[faces], linewidths=0.05, alpha=1)\n",
    "    face_color = [1, 1, 0.9]\n",
    "    mesh.set_facecolor(face_color)\n",
    "    ax.add_collection3d(mesh)\n",
    "\n",
    "    ax.set_xlim(0, max(x))\n",
    "    ax.set_ylim(0, max(y))\n",
    "    ax.set_zlim(0, max(z))\n",
    "    ax.set_facecolor((0.7, 0.7, 0.7))\n",
    "    plt.show()\n",
    "    return plt"
   ]
  },
  {
   "cell_type": "code",
   "execution_count": null,
   "id": "e0ab04c0",
   "metadata": {},
   "outputs": [],
   "source": [
    "v, f, norm, val = make_mesh(imgs_after_resamp, 110)\n",
    "plt_3d(v, f)"
   ]
  },
  {
   "cell_type": "code",
   "execution_count": null,
   "id": "b58efd58",
   "metadata": {},
   "outputs": [],
   "source": [
    "(zip(v))"
   ]
  },
  {
   "cell_type": "code",
   "execution_count": null,
   "id": "ce9def13",
   "metadata": {},
   "outputs": [],
   "source": [
    "norm"
   ]
  },
  {
   "cell_type": "code",
   "execution_count": null,
   "id": "784f7ccb",
   "metadata": {},
   "outputs": [],
   "source": [
    " pyfig= plotly_3d(v, f)"
   ]
  },
  {
   "cell_type": "code",
   "execution_count": null,
   "id": "8d3bf799",
   "metadata": {},
   "outputs": [],
   "source": [
    "pyfig.write_html('DCM_plotlyseg_110.html')"
   ]
  },
  {
   "cell_type": "code",
   "execution_count": null,
   "id": "f4c07bd2",
   "metadata": {},
   "outputs": [],
   "source": []
  }
 ],
 "metadata": {
  "kernelspec": {
   "display_name": "ArterialVis environment",
   "language": "python",
   "name": "arterialenv"
  },
  "language_info": {
   "codemirror_mode": {
    "name": "ipython",
    "version": 3
   },
   "file_extension": ".py",
   "mimetype": "text/x-python",
   "name": "python",
   "nbconvert_exporter": "python",
   "pygments_lexer": "ipython3",
   "version": "3.8.3"
  }
 },
 "nbformat": 4,
 "nbformat_minor": 5
}
