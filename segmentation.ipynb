{
 "cells": [
  {
   "cell_type": "markdown",
   "id": "9742651a",
   "metadata": {},
   "source": [
    "# Segmenting Arterial Structure from Radiological Imaging"
   ]
  },
  {
   "cell_type": "markdown",
   "id": "d94e716d",
   "metadata": {},
   "source": [
    "Before you start! Make sure you have downloaded the data; you can do so directly from inside a notebook by running:\n",
    "```\n",
    "!python download_sample_data.py\n",
    "```\n",
    "to download all data. If you only want the data necessary for this notebook, you can run:\n",
    "```\n",
    "from arterialvis.download import download_dicom\n",
    "download_dicom()\n",
    "```"
   ]
  },
  {
   "cell_type": "markdown",
   "id": "94c4c436",
   "metadata": {},
   "source": [
    "## Import the ArterialVis imaging module"
   ]
  },
  {
   "cell_type": "code",
   "execution_count": null,
   "id": "northern-heavy",
   "metadata": {},
   "outputs": [],
   "source": [
    "from arterialvis.download import make_output_dir\n",
    "from arterialvis.imaging import *"
   ]
  },
  {
   "cell_type": "markdown",
   "id": "bbb6ff74",
   "metadata": {},
   "source": [
    "## Select a volume"
   ]
  },
  {
   "cell_type": "code",
   "execution_count": null,
   "id": "juvenile-avatar",
   "metadata": {},
   "outputs": [],
   "source": [
    "print(find_largest_volume.__doc__)\n",
    "path, name = find_largest_volume()"
   ]
  },
  {
   "cell_type": "markdown",
   "id": "95018642",
   "metadata": {},
   "source": [
    "## Create a directory to store outputs and cache data"
   ]
  },
  {
   "cell_type": "code",
   "execution_count": null,
   "id": "introductory-basics",
   "metadata": {},
   "outputs": [],
   "source": [
    "print(make_output_dir.__doc__)\n",
    "output = make_output_dir(name)"
   ]
  },
  {
   "cell_type": "markdown",
   "id": "d47322e3",
   "metadata": {},
   "source": [
    "## Extract the pixels from the DICOM image files"
   ]
  },
  {
   "cell_type": "code",
   "execution_count": null,
   "id": "finite-certificate",
   "metadata": {
    "scrolled": false
   },
   "outputs": [],
   "source": [
    "print(extract_pixels.__doc__)\n",
    "pixels = extract_pixels(path)"
   ]
  },
  {
   "cell_type": "markdown",
   "id": "41aa1aba",
   "metadata": {},
   "source": [
    "## Flatten the pixel matrix into a 1D array"
   ]
  },
  {
   "cell_type": "code",
   "execution_count": null,
   "id": "ambient-preparation",
   "metadata": {},
   "outputs": [],
   "source": [
    "print(flat_wrapper.__doc__)\n",
    "flat = flat_wrapper(\n",
    "    pixels = pixels,\n",
    "    output = output)"
   ]
  },
  {
   "cell_type": "markdown",
   "id": "5a47c06b",
   "metadata": {},
   "source": [
    "## Visualize the distribution of values"
   ]
  },
  {
   "cell_type": "code",
   "execution_count": null,
   "id": "under-pizza",
   "metadata": {},
   "outputs": [],
   "source": [
    "print(show_dist.__doc__)\n",
    "show_dist(\n",
    "    flat = flat,\n",
    "    viewer = 'plotly',\n",
    "    output = output)"
   ]
  },
  {
   "cell_type": "markdown",
   "id": "61cb1e73",
   "metadata": {},
   "source": [
    "## Run k-means pixel clustering on the image"
   ]
  },
  {
   "cell_type": "code",
   "execution_count": null,
   "id": "coastal-baseline",
   "metadata": {},
   "outputs": [],
   "source": [
    "print(cluster_wrapper.__doc__)\n",
    "cluster_info = cluster_wrapper(\n",
    "    pixels = None,\n",
    "    flat = flat, \n",
    "    k = 3, \n",
    "    output = os.path.join(output,'cluster_info'))"
   ]
  },
  {
   "cell_type": "markdown",
   "id": "f485014f",
   "metadata": {},
   "source": [
    "## Mask the volume to a specific cluster"
   ]
  },
  {
   "cell_type": "code",
   "execution_count": null,
   "id": "informal-staff",
   "metadata": {},
   "outputs": [],
   "source": [
    "print(mask_wrapper.__doc__)\n",
    "masked = mask_wrapper(\n",
    "    pixels = pixels,\n",
    "    output = os.path.join(output,'masked'),\n",
    "    HUrange = None, \n",
    "    df = cluster_info)"
   ]
  },
  {
   "cell_type": "markdown",
   "id": "82b8ccaf",
   "metadata": {},
   "source": [
    "## Compare two scans side-by-side"
   ]
  },
  {
   "cell_type": "code",
   "execution_count": null,
   "id": "acute-bundle",
   "metadata": {},
   "outputs": [],
   "source": [
    "print(compare_scans.__doc__)\n",
    "compare_scans(\n",
    "    baseline = pixels, \n",
    "    compare = masked,\n",
    "    output = os.path.join(output,'compare-masked'))"
   ]
  },
  {
   "cell_type": "markdown",
   "id": "abf209e8",
   "metadata": {},
   "source": [
    "## Adjusting the number of means in k-means clustering"
   ]
  },
  {
   "cell_type": "code",
   "execution_count": null,
   "id": "excellent-peace",
   "metadata": {},
   "outputs": [],
   "source": [
    "print(cluster_wrapper.__doc__)\n",
    "cluster_info_k5 = cluster_wrapper(\n",
    "    pixels = None, \n",
    "    flat = flat,\n",
    "    k = 5,\n",
    "    output = os.path.join(output,'cluster_info_k5'))"
   ]
  },
  {
   "cell_type": "markdown",
   "id": "1d84574e",
   "metadata": {},
   "source": [
    "## Compare two different masks based on k-means cluster"
   ]
  },
  {
   "cell_type": "code",
   "execution_count": null,
   "id": "extreme-thinking",
   "metadata": {},
   "outputs": [],
   "source": [
    "masked_k5 = mask_wrapper(\n",
    "    pixels,\n",
    "    os.path.join(output,'masked_k5'),\n",
    "    HUrange = None,\n",
    "    df = cluster_info_k5)"
   ]
  },
  {
   "cell_type": "code",
   "execution_count": null,
   "id": "naval-disaster",
   "metadata": {
    "scrolled": true
   },
   "outputs": [],
   "source": [
    "compare_scans(\n",
    "    masked,\n",
    "    masked_k5,\n",
    "    output=os.path.join(output,'compare_k3-to-k5'))"
   ]
  },
  {
   "cell_type": "markdown",
   "id": "e16e6df7",
   "metadata": {},
   "source": [
    "## Set a custom HU range for masking"
   ]
  },
  {
   "cell_type": "code",
   "execution_count": null,
   "id": "diverse-carroll",
   "metadata": {},
   "outputs": [],
   "source": [
    "print(mask_wrapper.__doc__)\n",
    "customHUrange = (-950,-880)\n",
    "rangename = f'{customHUrange[0]}-{customHUrange[1]}'\n",
    "manual_mask = mask_wrapper(\n",
    "    pixels = pixels,\n",
    "    output=os.path.join(output,f'manual_mask_{rangename}'),\n",
    "    HUrange=customHUrange)\n",
    "compare_scans(pixels, manual_mask, output=os.path.join(output,f'compare_manual-mask_{rangename}'))"
   ]
  },
  {
   "cell_type": "markdown",
   "id": "dd1dff40",
   "metadata": {},
   "source": [
    "## Binarize a mask"
   ]
  },
  {
   "cell_type": "code",
   "execution_count": null,
   "id": "confident-permission",
   "metadata": {},
   "outputs": [],
   "source": [
    "print(binary_mask.__doc__)\n",
    "binary = binary_mask(\n",
    "    pixels = manual_mask,\n",
    "    maskRange = customHUrange,\n",
    "    output = os.path.join(output, f'binary_mask_{rangename}'),\n",
    ")"
   ]
  },
  {
   "cell_type": "markdown",
   "id": "ed7f68e9",
   "metadata": {},
   "source": [
    "## Remove islands from a scan"
   ]
  },
  {
   "cell_type": "code",
   "execution_count": null,
   "id": "jewish-cornell",
   "metadata": {},
   "outputs": [],
   "source": [
    "print(remove_islands.__doc__)\n",
    "noislands_manualmask = remove_islands(\n",
    "    manual_mask,\n",
    "    output = os.path.join(output,f'islands-removed_manual_mask')\n",
    ")"
   ]
  }
 ],
 "metadata": {
  "kernelspec": {
   "display_name": "ArterialVis environment",
   "language": "python",
   "name": "arterialenv"
  },
  "language_info": {
   "codemirror_mode": {
    "name": "ipython",
    "version": 3
   },
   "file_extension": ".py",
   "mimetype": "text/x-python",
   "name": "python",
   "nbconvert_exporter": "python",
   "pygments_lexer": "ipython3",
   "version": "3.8.3"
  }
 },
 "nbformat": 4,
 "nbformat_minor": 5
}
